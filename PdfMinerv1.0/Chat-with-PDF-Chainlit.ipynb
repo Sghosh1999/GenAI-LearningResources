{
 "cells": [
  {
   "cell_type": "code",
   "execution_count": 19,
   "id": "a3a0efda",
   "metadata": {},
   "outputs": [],
   "source": [
    "# Import necessary modules and define env variables\n",
    "\n",
    "from langchain.embeddings.openai import OpenAIEmbeddings\n",
    "from langchain.text_splitter import RecursiveCharacterTextSplitter\n",
    "from langchain.vectorstores import Chroma\n",
    "from langchain_community.embeddings.huggingface import HuggingFaceEmbeddings\n",
    "from langchain import FAISS\n",
    "from langchain.callbacks import get_openai_callback\n",
    "from PyPDF2 import PdfReader\n",
    "from langchain.chains import RetrievalQAWithSourcesChain\n",
    "from langchain.chains import RetrievalQA\n",
    "from langchain.chat_models import ChatOpenAI\n",
    "from langchain.prompts.chat import (\n",
    "    ChatPromptTemplate,\n",
    "    SystemMessagePromptTemplate,\n",
    "    HumanMessagePromptTemplate,\n",
    ")\n",
    "import os\n",
    "import io\n",
    "import chainlit as cl\n",
    "import PyPDF2\n",
    "from io import BytesIO\n",
    "\n",
    "\n",
    "from dotenv import load_dotenv"
   ]
  },
  {
   "cell_type": "code",
   "execution_count": 2,
   "id": "23c75d67",
   "metadata": {},
   "outputs": [],
   "source": [
    "# Load environment variables from .env file\n",
    "#load_dotenv()"
   ]
  },
  {
   "cell_type": "code",
   "execution_count": 5,
   "id": "e513d9bb",
   "metadata": {},
   "outputs": [],
   "source": [
    "OPENAI_API_KEY= os.getenv(\"OPENAI_API_KEY\") "
   ]
  },
  {
   "cell_type": "code",
   "execution_count": 7,
   "id": "80e39ef6",
   "metadata": {},
   "outputs": [],
   "source": [
    "#OPENAI_API_KEY"
   ]
  },
  {
   "cell_type": "markdown",
   "id": "780ec8bc",
   "metadata": {},
   "source": [
    "### Prompt Template Initialization"
   ]
  },
  {
   "cell_type": "code",
   "execution_count": 8,
   "id": "461b4e23",
   "metadata": {},
   "outputs": [],
   "source": [
    "# text_splitter and system template\n",
    "\n",
    "text_splitter = RecursiveCharacterTextSplitter(chunk_size=1000, chunk_overlap=100)\n",
    "\n",
    "\n",
    "\n",
    "system_template = \"\"\"Use the following pieces of context to answer the users question.\n",
    "    If you don't know the answer, just say that you don't know, don't try to make up an answer.\n",
    "    ALWAYS return a \"SOURCES\" part in your answer.\n",
    "    The \"SOURCES\" part should be a reference to the source of the document from which you got your answer.\n",
    "\n",
    "    Example of your response should be:\n",
    "\n",
    "    ```\n",
    "    The answer is foo\n",
    "    SOURCES: xyz\n",
    "    ```\n",
    "\n",
    "    Begin!\n",
    "    ----------------\n",
    "    {summaries}\"\"\""
   ]
  },
  {
   "cell_type": "code",
   "execution_count": 9,
   "id": "d0bcace1",
   "metadata": {},
   "outputs": [],
   "source": [
    "messages = [\n",
    "    SystemMessagePromptTemplate.from_template(system_template),\n",
    "    HumanMessagePromptTemplate.from_template(\"{question}\"),\n",
    "]\n",
    "prompt = ChatPromptTemplate.from_messages(messages)\n",
    "chain_type_kwargs = {\"prompt\": prompt}"
   ]
  },
  {
   "cell_type": "code",
   "execution_count": 10,
   "id": "2b380907",
   "metadata": {},
   "outputs": [],
   "source": [
    "pdf_reader = PdfReader(\"../Langchain_Tutorials/amazon-rainforest-sample_doc.pdf\")\n",
    "# Text variable will store the pdf text\n",
    "text = \"\"\n",
    "for page in pdf_reader.pages:\n",
    "    text += page.extract_text()"
   ]
  },
  {
   "cell_type": "code",
   "execution_count": 11,
   "id": "63b5be40",
   "metadata": {},
   "outputs": [],
   "source": [
    "# Split the text into chunks\n",
    "texts = text_splitter.split_text(text)"
   ]
  },
  {
   "cell_type": "code",
   "execution_count": 12,
   "id": "70c96257",
   "metadata": {},
   "outputs": [
    {
     "data": {
      "text/plain": [
       "'The Amazon Rainforest \\xa0\\n \\xa0\\n The Amazon rainforest is the \\u200b largest remaining tropical rainforest in the world\\u200b , blanketing the Earth’s \\xa0\\n surface in approximately\\u200b  \\u200b three billion trees\\u200b . Spanning nine countries in South America, the Amazon is an \\xa0\\n expansive and incredibly diverse biome— almost twenty-five times the size of the United Kingdom. Through the \\xa0\\n region snakes the Amazon River, flowing for more than 4,100 miles. \\xa0 \\xa0\\n \\xa0\\n ● One fifth of world’s flowing water runs through the Amazon. \\xa0\\n ● About 20% of the planet’s oxygen is produced in the Amazon. \\xa0\\n \\xa0\\n Biodiversity in the Amazon \\xa0\\n \\xa0\\n As of 2005, the Amazon is home to at least \\u200b 10% of the entire planet’s known species\\u200b , including, at least: \\xa0\\n \\xa0\\n ● 437 mammal species \\xa0 \\xa0\\n ● 1,300 bird species \\xa0\\n ● 378 reptile species \\xa0\\n ● 400 amphibian species \\xa0 \\xa0\\n ● 3,000 fish species \\xa0 \\xa0\\n ● 40,000 to 53,000 tree species'"
      ]
     },
     "execution_count": 12,
     "metadata": {},
     "output_type": "execute_result"
    }
   ],
   "source": [
    "texts[0]"
   ]
  },
  {
   "cell_type": "code",
   "execution_count": 13,
   "id": "73624be8",
   "metadata": {},
   "outputs": [],
   "source": [
    "# Create metadata for each chunk\n",
    "metadatas = [{\"source\": f\"{i}-pl\"} for i in range(len(texts))]"
   ]
  },
  {
   "cell_type": "code",
   "execution_count": 14,
   "id": "cc3b8032",
   "metadata": {},
   "outputs": [
    {
     "data": {
      "text/plain": [
       "[{'source': '0-pl'},\n",
       " {'source': '1-pl'},\n",
       " {'source': '2-pl'},\n",
       " {'source': '3-pl'},\n",
       " {'source': '4-pl'},\n",
       " {'source': '5-pl'}]"
      ]
     },
     "execution_count": 14,
     "metadata": {},
     "output_type": "execute_result"
    }
   ],
   "source": [
    "metadatas"
   ]
  },
  {
   "cell_type": "code",
   "execution_count": 15,
   "id": "e0f9e520",
   "metadata": {
    "scrolled": true
   },
   "outputs": [
    {
     "name": "stderr",
     "output_type": "stream",
     "text": [
      "C:\\Users\\Sayantan\\anaconda3\\Lib\\site-packages\\langchain_core\\_api\\deprecation.py:117: LangChainDeprecationWarning: The class `langchain_community.embeddings.openai.OpenAIEmbeddings` was deprecated in langchain-community 0.1.0 and will be removed in 0.2.0. An updated version of the class exists in the langchain-openai package and should be used instead. To use it run `pip install -U langchain-openai` and import as `from langchain_openai import OpenAIEmbeddings`.\n",
      "  warn_deprecated(\n"
     ]
    },
    {
     "name": "stdout",
     "output_type": "stream",
     "text": [
      "2024-02-20 11:31:49 - Anonymized telemetry enabled. See                     https://docs.trychroma.com/telemetry for more information.\n",
      "2024-02-20 11:31:50 - HTTP Request: POST https://api.openai.com/v1/embeddings \"HTTP/1.1 200 OK\"\n"
     ]
    }
   ],
   "source": [
    "embeddings = OpenAIEmbeddings(api_key = os.environ[\"OPENAI_API_kEY\"])\n",
    "docsearch = Chroma.from_texts(\n",
    "    texts, embeddings, metadatas=metadatas\n",
    ")"
   ]
  },
  {
   "cell_type": "code",
   "execution_count": 21,
   "id": "e34ed45b",
   "metadata": {},
   "outputs": [],
   "source": [
    "llm = ChatOpenAI(model_name=\"gpt-3.5-turbo-0125\", temperature=0)\n",
    "\n",
    "retriver = docsearch.as_retriever(search_kwargs={\"k\":2})\n",
    "\n",
    "qa = RetrievalQA.from_chain_type(llm = llm, chain_type='stuff', retriever = retriver)"
   ]
  },
  {
   "cell_type": "code",
   "execution_count": 25,
   "id": "df64dda6",
   "metadata": {},
   "outputs": [],
   "source": [
    "query = \"What is the Oxygen perchentage of Amazon?\""
   ]
  },
  {
   "cell_type": "code",
   "execution_count": 26,
   "id": "ca6f0be8",
   "metadata": {},
   "outputs": [
    {
     "name": "stdout",
     "output_type": "stream",
     "text": [
      "2024-02-20 11:36:40 - HTTP Request: POST https://api.openai.com/v1/embeddings \"HTTP/1.1 200 OK\"\n",
      "2024-02-20 11:36:41 - HTTP Request: POST https://api.openai.com/v1/chat/completions \"HTTP/1.1 200 OK\"\n",
      "Tokens Used: 517\n",
      "\tPrompt Tokens: 501\n",
      "\tCompletion Tokens: 16\n",
      "Successful Requests: 1\n",
      "Total Cost (USD): $0.0002745\n"
     ]
    }
   ],
   "source": [
    " with get_openai_callback() as cost:\n",
    "    response = qa.run(query)\n",
    "    print(cost)"
   ]
  },
  {
   "cell_type": "code",
   "execution_count": 27,
   "id": "a5d29519",
   "metadata": {},
   "outputs": [
    {
     "data": {
      "text/plain": [
       "\"The Amazon rainforest produces more than 20% of the Earth's oxygen.\""
      ]
     },
     "execution_count": 27,
     "metadata": {},
     "output_type": "execute_result"
    }
   ],
   "source": [
    "response"
   ]
  },
  {
   "cell_type": "code",
   "execution_count": null,
   "id": "4a7fb581",
   "metadata": {},
   "outputs": [],
   "source": []
  }
 ],
 "metadata": {
  "kernelspec": {
   "display_name": "Python 3 (ipykernel)",
   "language": "python",
   "name": "python3"
  },
  "language_info": {
   "codemirror_mode": {
    "name": "ipython",
    "version": 3
   },
   "file_extension": ".py",
   "mimetype": "text/x-python",
   "name": "python",
   "nbconvert_exporter": "python",
   "pygments_lexer": "ipython3",
   "version": "3.11.5"
  }
 },
 "nbformat": 4,
 "nbformat_minor": 5
}
