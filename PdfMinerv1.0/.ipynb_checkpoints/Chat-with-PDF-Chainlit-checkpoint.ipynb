{
 "cells": [
  {
   "cell_type": "code",
   "execution_count": 30,
   "id": "0a9807fb",
   "metadata": {},
   "outputs": [],
   "source": [
    "# Import necessary modules and define env variables\n",
    "\n",
    "from langchain.embeddings.openai import OpenAIEmbeddings\n",
    "from langchain.text_splitter import RecursiveCharacterTextSplitter\n",
    "from langchain.vectorstores import Chroma\n",
    "from langchain_community.embeddings.huggingface import HuggingFaceEmbeddings\n",
    "from langchain import FAISS\n",
    "from langchain.callbacks import get_openai_callback\n",
    "from PyPDF2 import PdfReader\n",
    "from langchain.chains import RetrievalQAWithSourcesChain\n",
    "from langchain.chat_models import ChatOpenAI\n",
    "from langchain.prompts.chat import (\n",
    "    ChatPromptTemplate,\n",
    "    SystemMessagePromptTemplate,\n",
    "    HumanMessagePromptTemplate,\n",
    ")\n",
    "import os\n",
    "import io\n",
    "import chainlit as cl\n",
    "import PyPDF2\n",
    "from io import BytesIO\n",
    "\n",
    "\n",
    "from dotenv import load_dotenv"
   ]
  },
  {
   "cell_type": "code",
   "execution_count": 5,
   "id": "72eb14e5",
   "metadata": {},
   "outputs": [
    {
     "data": {
      "text/plain": [
       "True"
      ]
     },
     "execution_count": 5,
     "metadata": {},
     "output_type": "execute_result"
    }
   ],
   "source": [
    "# Load environment variables from .env file\n",
    "load_dotenv()"
   ]
  },
  {
   "cell_type": "code",
   "execution_count": 6,
   "id": "150004d3",
   "metadata": {},
   "outputs": [],
   "source": [
    "OPENAI_API_KEY= os.getenv(\"OPENAI_API_KEY\")"
   ]
  },
  {
   "cell_type": "markdown",
   "id": "56bf9db3",
   "metadata": {},
   "source": [
    "### Prompt Template Initialization"
   ]
  },
  {
   "cell_type": "code",
   "execution_count": 7,
   "id": "54764484",
   "metadata": {},
   "outputs": [],
   "source": [
    "# text_splitter and system template\n",
    "\n",
    "text_splitter = RecursiveCharacterTextSplitter(chunk_size=1000, chunk_overlap=100)\n",
    "\n",
    "\n",
    "\n",
    "system_template = \"\"\"Use the following pieces of context to answer the users question.\n",
    "    If you don't know the answer, just say that you don't know, don't try to make up an answer.\n",
    "    ALWAYS return a \"SOURCES\" part in your answer.\n",
    "    The \"SOURCES\" part should be a reference to the source of the document from which you got your answer.\n",
    "\n",
    "    Example of your response should be:\n",
    "\n",
    "    ```\n",
    "    The answer is foo\n",
    "    SOURCES: xyz\n",
    "    ```\n",
    "\n",
    "    Begin!\n",
    "    ----------------\n",
    "    {summaries}\"\"\""
   ]
  },
  {
   "cell_type": "code",
   "execution_count": 9,
   "id": "eb28bd1c",
   "metadata": {},
   "outputs": [],
   "source": [
    "messages = [\n",
    "    SystemMessagePromptTemplate.from_template(system_template),\n",
    "    HumanMessagePromptTemplate.from_template(\"{question}\"),\n",
    "]\n",
    "prompt = ChatPromptTemplate.from_messages(messages)\n",
    "chain_type_kwargs = {\"prompt\": prompt}"
   ]
  },
  {
   "cell_type": "code",
   "execution_count": 14,
   "id": "7b0b0923",
   "metadata": {},
   "outputs": [],
   "source": [
    "pdf_reader = PdfReader(\"../Langchain_Tutorials/amazon-rainforest-sample_doc.pdf\")\n",
    "# Text variable will store the pdf text\n",
    "text = \"\"\n",
    "for page in pdf_reader.pages:\n",
    "    text += page.extract_text()"
   ]
  },
  {
   "cell_type": "code",
   "execution_count": 16,
   "id": "8d736794",
   "metadata": {},
   "outputs": [],
   "source": [
    "# Split the text into chunks\n",
    "texts = text_splitter.split_text(text)"
   ]
  },
  {
   "cell_type": "code",
   "execution_count": 18,
   "id": "8db8c33b",
   "metadata": {},
   "outputs": [
    {
     "data": {
      "text/plain": [
       "'The Amazon Rainforest \\xa0\\n \\xa0\\n The Amazon rainforest is the \\u200b largest remaining tropical rainforest in the world\\u200b , blanketing the Earth’s \\xa0\\n surface in approximately\\u200b  \\u200b three billion trees\\u200b . Spanning nine countries in South America, the Amazon is an \\xa0\\n expansive and incredibly diverse biome— almost twenty-five times the size of the United Kingdom. Through the \\xa0\\n region snakes the Amazon River, flowing for more than 4,100 miles. \\xa0 \\xa0\\n \\xa0\\n ● One fifth of world’s flowing water runs through the Amazon. \\xa0\\n ● About 20% of the planet’s oxygen is produced in the Amazon. \\xa0\\n \\xa0\\n Biodiversity in the Amazon \\xa0\\n \\xa0\\n As of 2005, the Amazon is home to at least \\u200b 10% of the entire planet’s known species\\u200b , including, at least: \\xa0\\n \\xa0\\n ● 437 mammal species \\xa0 \\xa0\\n ● 1,300 bird species \\xa0\\n ● 378 reptile species \\xa0\\n ● 400 amphibian species \\xa0 \\xa0\\n ● 3,000 fish species \\xa0 \\xa0\\n ● 40,000 to 53,000 tree species'"
      ]
     },
     "execution_count": 18,
     "metadata": {},
     "output_type": "execute_result"
    }
   ],
   "source": [
    "texts[0]"
   ]
  },
  {
   "cell_type": "code",
   "execution_count": 19,
   "id": "635bb038",
   "metadata": {},
   "outputs": [],
   "source": [
    "# Create metadata for each chunk\n",
    "metadatas = [{\"source\": f\"{i}-pl\"} for i in range(len(texts))]"
   ]
  },
  {
   "cell_type": "code",
   "execution_count": 21,
   "id": "b0e4ba84",
   "metadata": {},
   "outputs": [
    {
     "data": {
      "text/plain": [
       "[{'source': '0-pl'},\n",
       " {'source': '1-pl'},\n",
       " {'source': '2-pl'},\n",
       " {'source': '3-pl'},\n",
       " {'source': '4-pl'},\n",
       " {'source': '5-pl'}]"
      ]
     },
     "execution_count": 21,
     "metadata": {},
     "output_type": "execute_result"
    }
   ],
   "source": [
    "metadatas"
   ]
  },
  {
   "cell_type": "code",
   "execution_count": 25,
   "id": "05dc84ae",
   "metadata": {},
   "outputs": [
    {
     "name": "stdout",
     "output_type": "stream",
     "text": [
      "2024-02-20 11:17:22 - Load pretrained SentenceTransformer: all-MiniLM-L6-v2\n",
      "2024-02-20 11:17:25 - Use pytorch device_name: cuda\n",
      "2024-02-20 11:17:30 - Loading faiss with AVX2 support.\n",
      "2024-02-20 11:17:30 - Could not load library with AVX2 support due to:\n",
      "ModuleNotFoundError(\"No module named 'faiss.swigfaiss_avx2'\")\n",
      "2024-02-20 11:17:30 - Loading faiss.\n",
      "2024-02-20 11:17:30 - Successfully loaded faiss.\n"
     ]
    }
   ],
   "source": [
    "#Huggingface Embedding (\"all-MiniLM-L6-v2\")\n",
    "embeddings = HuggingFaceEmbeddings(model_name=\"all-MiniLM-L6-v2\")\n",
    "knowledgeBase = FAISS.from_texts(texts, embeddings)"
   ]
  },
  {
   "cell_type": "code",
   "execution_count": 26,
   "id": "09517982",
   "metadata": {},
   "outputs": [
    {
     "name": "stderr",
     "output_type": "stream",
     "text": [
      "C:\\Users\\Sayantan\\anaconda3\\Lib\\site-packages\\langchain_core\\_api\\deprecation.py:117: LangChainDeprecationWarning: The class `langchain_community.chat_models.openai.ChatOpenAI` was deprecated in langchain-community 0.0.10 and will be removed in 0.2.0. An updated version of the class exists in the langchain-openai package and should be used instead. To use it run `pip install -U langchain-openai` and import as `from langchain_openai import ChatOpenAI`.\n",
      "  warn_deprecated(\n"
     ]
    }
   ],
   "source": [
    "# Create a chain that uses the Chroma vector store\n",
    "chain = RetrievalQAWithSourcesChain.from_chain_type(\n",
    "    ChatOpenAI(temperature=0),\n",
    "    chain_type=\"stuff\",\n",
    "    retriever=knowledgeBase.as_retriever(),\n",
    ")"
   ]
  },
  {
   "cell_type": "code",
   "execution_count": 32,
   "id": "ed9c151e",
   "metadata": {},
   "outputs": [],
   "source": [
    "query = \"What is the Oxygen perchentage of Amazon?\""
   ]
  },
  {
   "cell_type": "code",
   "execution_count": 33,
   "id": "2bd2b808",
   "metadata": {},
   "outputs": [],
   "source": [
    "docs = knowledgeBase.similarity_search(query)"
   ]
  },
  {
   "cell_type": "code",
   "execution_count": null,
   "id": "5fc11547",
   "metadata": {},
   "outputs": [],
   "source": []
  }
 ],
 "metadata": {
  "kernelspec": {
   "display_name": "Python 3 (ipykernel)",
   "language": "python",
   "name": "python3"
  },
  "language_info": {
   "codemirror_mode": {
    "name": "ipython",
    "version": 3
   },
   "file_extension": ".py",
   "mimetype": "text/x-python",
   "name": "python",
   "nbconvert_exporter": "python",
   "pygments_lexer": "ipython3",
   "version": "3.11.5"
  }
 },
 "nbformat": 4,
 "nbformat_minor": 5
}
