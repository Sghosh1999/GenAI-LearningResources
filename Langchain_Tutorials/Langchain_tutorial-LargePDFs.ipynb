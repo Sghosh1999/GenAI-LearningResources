{
 "cells": [
  {
   "cell_type": "code",
   "execution_count": 3,
   "id": "50b052d9",
   "metadata": {},
   "outputs": [
    {
     "data": {
      "text/plain": [
       "True"
      ]
     },
     "execution_count": 3,
     "metadata": {},
     "output_type": "execute_result"
    }
   ],
   "source": [
    "from dotenv import load_dotenv\n",
    "import os\n",
    "import openai\n",
    "from PyPDF2 import PdfReader\n",
    "import streamlit as st\n",
    "from langchain.chat_models import ChatOpenAI\n",
    "from langchain.text_splitter import CharacterTextSplitter\n",
    "from langchain_openai import OpenAIEmbeddings\n",
    "from langchain import FAISS\n",
    "from langchain.llms import OpenAI\n",
    "from langchain.callbacks import get_openai_callback\n",
    "from langchain.chains.question_answering import load_qa_chain\n",
    "from langchain.prompts import PromptTemplate\n",
    "from langchain.text_splitter import RecursiveCharacterTextSplitter\n",
    "from langchain_community.embeddings.huggingface import HuggingFaceEmbeddings\n",
    "\n",
    "\n",
    "# Load environment variables\n",
    "load_dotenv()"
   ]
  },
  {
   "cell_type": "markdown",
   "id": "77570216",
   "metadata": {},
   "source": [
    "### Reading a Large PDF\n",
    "\n",
    "- Page Number:100+"
   ]
  },
  {
   "cell_type": "code",
   "execution_count": 4,
   "id": "dc129742",
   "metadata": {},
   "outputs": [],
   "source": [
    "import PyPDF2\n",
    "\n",
    "pdf_file_obj = open('bcg-2022-annual-sustainability-report-apr-2023.pdf', 'rb')\n",
    "pdf_reader = PyPDF2.PdfReader(pdf_file_obj)\n",
    "num_pages = len(pdf_reader.pages)\n",
    "detected_text = ''\n",
    "\n",
    "for page_num in range(num_pages):\n",
    "    page_obj = pdf_reader.pages[page_num]\n",
    "    detected_text += page_obj.extract_text() + '\\n\\n'\n",
    "\n",
    "pdf_file_obj.close()"
   ]
  },
  {
   "cell_type": "code",
   "execution_count": 5,
   "id": "0784f378",
   "metadata": {},
   "outputs": [],
   "source": [
    "#detected_text"
   ]
  },
  {
   "cell_type": "markdown",
   "id": "27dda89a",
   "metadata": {},
   "source": [
    "### Langchain - Recursive Character Text Splitter "
   ]
  },
  {
   "cell_type": "markdown",
   "id": "a1dda2aa",
   "metadata": {},
   "source": [
    "- We will perform chunking and split the text using LangChain text splitters"
   ]
  },
  {
   "cell_type": "code",
   "execution_count": 6,
   "id": "e9cd06f7",
   "metadata": {},
   "outputs": [],
   "source": [
    "text_splitter = RecursiveCharacterTextSplitter(chunk_size=1000, chunk_overlap=200)\n",
    "texts = text_splitter.create_documents([detected_text])"
   ]
  },
  {
   "cell_type": "code",
   "execution_count": 7,
   "id": "81b3b29c",
   "metadata": {},
   "outputs": [
    {
     "data": {
      "text/plain": [
       "344"
      ]
     },
     "execution_count": 7,
     "metadata": {},
     "output_type": "execute_result"
    }
   ],
   "source": [
    "len(texts)"
   ]
  },
  {
   "cell_type": "markdown",
   "id": "2c634686",
   "metadata": {},
   "source": [
    "- We create a vector database using the chunks. We will save it the database for future use as well\n",
    "- We will use **FAISS (Facebook AI Similarity Search)** for vector Store"
   ]
  },
  {
   "cell_type": "markdown",
   "id": "d54f049c",
   "metadata": {},
   "source": [
    "## Generating Embeddings & Store it into vectorDB"
   ]
  },
  {
   "cell_type": "code",
   "execution_count": 8,
   "id": "bbd43606",
   "metadata": {},
   "outputs": [],
   "source": [
    "#Huggingface Embedding (\"all-MiniLM-L6-v2\")\n",
    "embeddings = HuggingFaceEmbeddings(model_name=\"all-MiniLM-L6-v2\")\n",
    "\n",
    "directory = 'index_store'\n",
    "vector_index = FAISS.from_documents(texts, embeddings)\n",
    "vector_index.save_local(directory)"
   ]
  },
  {
   "cell_type": "markdown",
   "id": "dc1eeb73",
   "metadata": {},
   "source": [
    "- We now load the database. Using the database, we configure a retriever and then create a chat object. This chat object (qa_interface) will be used to chat with the PDF."
   ]
  },
  {
   "cell_type": "code",
   "execution_count": 13,
   "id": "f62ce436",
   "metadata": {},
   "outputs": [],
   "source": [
    "vector_index = FAISS.load_local('index_store', embeddings)"
   ]
  },
  {
   "cell_type": "code",
   "execution_count": 21,
   "id": "2f30585b",
   "metadata": {},
   "outputs": [],
   "source": [
    "query = \"List measures taken to address diseases occuring in developing industries.List in a pointwise manner.\"\n",
    "docs = vector_index.similarity_search(query)"
   ]
  },
  {
   "cell_type": "code",
   "execution_count": 22,
   "id": "28b4ffdf",
   "metadata": {},
   "outputs": [
    {
     "name": "stdout",
     "output_type": "stream",
     "text": [
      "page_content='plans to further expand its Accord for a Healthier World to \\nextend access to the full portfolio of medicines and vaccines \\nto all eligible individuals. \\n45\\n1.2 billionlower-income countries \\nwith increased access to \\ninnovative medicines \\nwith the potential to ac -\\ncess treatment for deadly \\ninfectious diseases'\n",
      "______________________________\n",
      "page_content='BOSTON CONSULTING GROUP  19\\nIMPACT: Bringing Pfizer’s Innovative Portfolio of Medicines to the African \\nUnion\\nSocietal Problem  \\nHalf of the world’s population suffers from a health equity \\ngap, living without access to high-quality, safe, effective \\nmedicines. In this context, Pfizer announced “An Accord \\nfor a Healthier World” to provide access to innovative \\nmedicines for people living in 45 lower-income countries. \\nThe program has the potential to improve the health of up \\nto 1.2 billion people affected by deadly infectious diseases, \\nas well as certain cancers and inflammatory diseases.\\nPartner’s Challenge  \\nThe toughest challenge has been figuring out how to make \\nthe innovative portfolio available across 45 developing  \\ncountries without defining individual go-to-market strategies. \\nPfizer sought BCG’s assistance in developing a partnership \\nmodel that mitigates risks, meets regulatory requirements, \\nand ensures high distribution security. \\nBCG’s Contribution'\n"
     ]
    }
   ],
   "source": [
    "# Check for first two results\n",
    "print(docs[0])\n",
    "print(\"___\"*10)\n",
    "print(docs[1])"
   ]
  },
  {
   "cell_type": "code",
   "execution_count": 23,
   "id": "b507b171",
   "metadata": {},
   "outputs": [],
   "source": [
    "## Initiliazing the LLM\n",
    "llm = ChatOpenAI(model_name=\"gpt-3.5-turbo-0125\", temperature=0)"
   ]
  },
  {
   "cell_type": "code",
   "execution_count": 24,
   "id": "4c2f64fd",
   "metadata": {},
   "outputs": [],
   "source": [
    "qa_interface = load_qa_chain(llm=llm,chain_type=\"stuff\")"
   ]
  },
  {
   "cell_type": "code",
   "execution_count": 25,
   "id": "f34d3673",
   "metadata": {},
   "outputs": [
    {
     "name": "stdout",
     "output_type": "stream",
     "text": [
      "Tokens Used: 926\n",
      "\tPrompt Tokens: 795\n",
      "\tCompletion Tokens: 131\n",
      "Successful Requests: 1\n",
      "Total Cost (USD): $0.000594\n"
     ]
    }
   ],
   "source": [
    " with get_openai_callback() as cost:\n",
    "    response = qa_interface.run(input_documents=docs, question=query)\n",
    "    print(cost)"
   ]
  },
  {
   "cell_type": "code",
   "execution_count": 27,
   "id": "30099847",
   "metadata": {},
   "outputs": [
    {
     "name": "stdout",
     "output_type": "stream",
     "text": [
      "1. Pfizer's \"Accord for a Healthier World\" program aims to provide access to innovative medicines for people in 45 lower-income countries.\n",
      "2. The program targets improving the health of up to 1.2 billion individuals affected by deadly infectious diseases, cancers, and inflammatory conditions.\n",
      "3. Pfizer sought assistance from the Boston Consulting Group to develop a partnership model for distributing their innovative portfolio in developing countries.\n",
      "4. The partnership model focuses on mitigating risks, meeting regulatory requirements, and ensuring high distribution security.\n",
      "5. The Boston Consulting Group developed scenarios in consultation with local leadership and industry experts to prepare for all contingencies in 2022.\n"
     ]
    }
   ],
   "source": [
    "print(response)"
   ]
  },
  {
   "cell_type": "code",
   "execution_count": null,
   "id": "08b02294",
   "metadata": {},
   "outputs": [],
   "source": []
  }
 ],
 "metadata": {
  "kernelspec": {
   "display_name": "Python 3 (ipykernel)",
   "language": "python",
   "name": "python3"
  },
  "language_info": {
   "codemirror_mode": {
    "name": "ipython",
    "version": 3
   },
   "file_extension": ".py",
   "mimetype": "text/x-python",
   "name": "python",
   "nbconvert_exporter": "python",
   "pygments_lexer": "ipython3",
   "version": "3.11.5"
  }
 },
 "nbformat": 4,
 "nbformat_minor": 5
}
