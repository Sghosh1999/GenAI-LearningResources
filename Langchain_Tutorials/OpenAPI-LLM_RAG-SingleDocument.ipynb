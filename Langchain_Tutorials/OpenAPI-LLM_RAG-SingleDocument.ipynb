{
 "cells": [
  {
   "cell_type": "code",
   "execution_count": null,
   "id": "50d33cb9",
   "metadata": {},
   "outputs": [],
   "source": [
    "from dotenv import load_dotenv\n",
    "import os\n",
    "import openai\n",
    "from PyPDF2 import PdfReader\n",
    "import streamlit as st\n",
    "from langchain.text_splitter import CharacterTextSplitter\n",
    "from langchain_openai import OpenAIEmbeddings\n",
    "from langchain import FAISS\n",
    "from langchain.llms import OpenAI\n",
    "from langchain.callbacks import get_openai_callback\n",
    "from langchain.chains.question_answering import load_qa_chain\n",
    "from langchain.prompts import PromptTemplate\n",
    "from langchain.text_splitter import RecursiveCharacterTextSplitter\n",
    "from langchain_community.embeddings.huggingface import HuggingFaceEmbeddings\n",
    "\n",
    "\n",
    "# Load environment variables\n",
    "load_dotenv()"
   ]
  },
  {
   "cell_type": "markdown",
   "id": "49f70062",
   "metadata": {},
   "source": [
    "#### Loading The OpenAPI Key from Environment Variables"
   ]
  },
  {
   "cell_type": "code",
   "execution_count": null,
   "id": "d74bd2bc",
   "metadata": {},
   "outputs": [],
   "source": [
    "openai_api_key = os.environ[\"OPENAI_API_KEY\"]"
   ]
  },
  {
   "cell_type": "code",
   "execution_count": null,
   "id": "b14be963",
   "metadata": {},
   "outputs": [],
   "source": [
    "#Initializing Teh Client Object\n",
    "from openai import OpenAI\n",
    "import os\n",
    "\n",
    "client = OpenAI(\n",
    "    api_key = os.environ[\"OPENAI_API_kEY\"]\n",
    " )"
   ]
  },
  {
   "cell_type": "markdown",
   "id": "10e73d67",
   "metadata": {},
   "source": [
    "Splitting Text into Chunks: The function utilizes the CharacterTextSplitter from Langchain to split the input text into smaller chunks. These chunks are separated by newline characters (\"\\n\") and are of a maximum size of 1000 characters (chunk_size=1000). Additionally, there is an overlap of 200 characters between consecutive chunks (chunk_overlap=200).\n",
    "\n",
    "Converting Text Chunks into Embeddings: After splitting the text into chunks, the function seems to convert each chunk into embeddings using OpenAIEmbeddings. This assumes that OpenAIEmbeddings is a class responsible for converting text into embeddings, possibly using a pre-trained model like GPT.\n",
    "\n",
    "Forming a Knowledge Base: Finally, the function seems to create a knowledge base from the embeddings generated from the text chunks. It's using FAISS to index and retrieve embeddings efficiently. The FAISS.from_texts method likely creates an index from the embeddings of the text chunks."
   ]
  },
  {
   "cell_type": "code",
   "execution_count": null,
   "id": "2aaa8231",
   "metadata": {},
   "outputs": [],
   "source": [
    "def process_text(text):\n",
    "    # Split the text into chunks using Langchain's CharacterTextSplitter\n",
    "    text_splitter = CharacterTextSplitter(\n",
    "        separator=\"\\n\",\n",
    "        chunk_size=1000,\n",
    "        chunk_overlap=200,\n",
    "        length_function=len\n",
    "    )\n",
    "    chunks = text_splitter.split_text(text)\n",
    "    \n",
    "    # Convert the chunks of text into embeddings to form a knowledge base (OpenAI Embedding)\n",
    "    embeddings = OpenAIEmbeddings()\n",
    "    \n",
    "    #Huggingface Embedding (\"all-MiniLM-L6-v2\")\n",
    "    #embeddings = HuggingFaceEmbeddings(model_name=\"all-MiniLM-L6-v2\")\n",
    "    knowledgeBase = FAISS.from_texts(chunks, embeddings)\n",
    "    \n",
    "    return knowledgeBase"
   ]
  },
  {
   "cell_type": "code",
   "execution_count": null,
   "id": "ce4fad04",
   "metadata": {},
   "outputs": [],
   "source": [
    "pdf_reader = PdfReader(\"amazon-rainforest-sample_doc.pdf\")\n",
    "# Text variable will store the pdf text\n",
    "text = \"\"\n",
    "for page in pdf_reader.pages:\n",
    "    text += page.extract_text()\n",
    "    \n",
    "# Create the knowledge base object\n",
    "knowledgeBase = process_text(text)"
   ]
  },
  {
   "cell_type": "markdown",
   "id": "72852761",
   "metadata": {},
   "source": [
    "### Based on a Query -> We are deriving the similarity score using Huggingface Embedding"
   ]
  },
  {
   "cell_type": "code",
   "execution_count": null,
   "id": "a835de9e",
   "metadata": {},
   "outputs": [],
   "source": [
    "query = \"What is the Oxygen perchentage of Amazon?\""
   ]
  },
  {
   "cell_type": "code",
   "execution_count": null,
   "id": "7e51f364",
   "metadata": {},
   "outputs": [],
   "source": [
    "docs = knowledgeBase.similarity_search(query)\n",
    "\n",
    "# Check for first two results\n",
    "print(docs[0])\n",
    "print(\"___\"*10)\n",
    "print(docs[1])"
   ]
  },
  {
   "cell_type": "code",
   "execution_count": null,
   "id": "bedf94e8",
   "metadata": {},
   "outputs": [],
   "source": [
    "from langchain.chat_models import ChatOpenAI\n",
    "llm = ChatOpenAI(model_name=\"gpt-3.5-turbo-0125\", temperature=0)"
   ]
  },
  {
   "cell_type": "code",
   "execution_count": null,
   "id": "9d4eff82",
   "metadata": {},
   "outputs": [],
   "source": [
    "chain = load_qa_chain(llm, chain_type='stuff')"
   ]
  },
  {
   "cell_type": "code",
   "execution_count": null,
   "id": "bbe9c9e5",
   "metadata": {},
   "outputs": [],
   "source": [
    " with get_openai_callback() as cost:\n",
    "    response = chain.run(input_documents=docs, question=query)\n",
    "    print(cost)"
   ]
  },
  {
   "cell_type": "code",
   "execution_count": null,
   "id": "ef09a4bc",
   "metadata": {},
   "outputs": [],
   "source": [
    "response"
   ]
  },
  {
   "cell_type": "code",
   "execution_count": null,
   "id": "961af1ae",
   "metadata": {},
   "outputs": [],
   "source": []
  }
 ],
 "metadata": {
  "kernelspec": {
   "display_name": "Python 3 (ipykernel)",
   "language": "python",
   "name": "python3"
  },
  "language_info": {
   "codemirror_mode": {
    "name": "ipython",
    "version": 3
   },
   "file_extension": ".py",
   "mimetype": "text/x-python",
   "name": "python",
   "nbconvert_exporter": "python",
   "pygments_lexer": "ipython3",
   "version": "3.11.5"
  }
 },
 "nbformat": 4,
 "nbformat_minor": 5
}
